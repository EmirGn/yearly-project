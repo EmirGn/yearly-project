{
 "cells": [
  {
   "cell_type": "code",
   "execution_count": 151,
   "metadata": {},
   "outputs": [],
   "source": [
    "import numpy as np\n",
    "import pandas as pd\n",
    "import matplotlib.pyplot as plt\n",
    "from sklearn.datasets import fetch_california_housing\n",
    "from sklearn.preprocessing import StandardScaler"
   ]
  },
  {
   "cell_type": "code",
   "execution_count": 152,
   "metadata": {},
   "outputs": [],
   "source": [
    "diabetes_dataset = fetch_california_housing()"
   ]
  },
  {
   "cell_type": "code",
   "execution_count": 153,
   "metadata": {},
   "outputs": [],
   "source": [
    "x = np.array(diabetes_dataset[\"data\"])\n",
    "y = np.array(diabetes_dataset[\"target\"]).reshape(diabetes_dataset[\"target\"].shape[0], 1)"
   ]
  },
  {
   "cell_type": "code",
   "execution_count": 154,
   "metadata": {},
   "outputs": [],
   "source": [
    "scaler = StandardScaler()\n",
    "\n",
    "# Fit the scaler to your data and transform it\n",
    "X_normalized = scaler.fit_transform(x)"
   ]
  },
  {
   "cell_type": "code",
   "execution_count": 156,
   "metadata": {},
   "outputs": [],
   "source": [
    "def train_test_split(x, y, test_size):\n",
    "    \n",
    "    split_index = int(test_size * x.shape[0])\n",
    "    x_test, x_train = x[: split_index], x[split_index :]\n",
    "    y_test, y_train = y[: split_index], y[split_index :]\n",
    "\n",
    "    return x_train, y_train, x_test, y_test"
   ]
  },
  {
   "cell_type": "code",
   "execution_count": 157,
   "metadata": {},
   "outputs": [],
   "source": [
    "def DataLoader(x, y, batch_size, shuffle = True):\n",
    "    num_samples = x.shape[0]\n",
    "\n",
    "    if shuffle == True:\n",
    "        indices = np.random.permutation(num_samples)\n",
    "        x = x[indices]\n",
    "        y = y[indices]\n",
    "\n",
    "    num_batches = num_samples // batch_size\n",
    "    batches = []\n",
    "\n",
    "    for i in range(num_batches):\n",
    "        start_idx = i * batch_size\n",
    "        end_idx = start_idx + batch_size\n",
    "        batch_x = x[start_idx:end_idx]\n",
    "        batch_y = y[start_idx:end_idx]\n",
    "\n",
    "        batches.append((batch_x, batch_y))\n",
    "\n",
    "    if num_samples % batch_size != 0:\n",
    "        start_idx = num_batches * batch_size\n",
    "        batch_x = x[start_idx:]\n",
    "        batch_y = y[start_idx:]\n",
    "\n",
    "    return batches"
   ]
  },
  {
   "cell_type": "code",
   "execution_count": 178,
   "metadata": {},
   "outputs": [],
   "source": [
    "x_train, y_train, x_test, y_test = train_test_split(X_normalized, y, 0.2)\n",
    "train_dataloader = DataLoader(x_train, y_train, batch_size = 128, shuffle = True)\n",
    "test_dataloader = DataLoader(x_test, y_test, batch_size = 128, shuffle = True)"
   ]
  },
  {
   "cell_type": "code",
   "execution_count": 197,
   "metadata": {},
   "outputs": [],
   "source": [
    "class Perceptron:\n",
    "    def __init__(self, in_features, out_features):\n",
    "        self.weight = np.random.rand(in_features, out_features) * 0.1\n",
    "        self.bias = np.random.randn(out_features)\n",
    "\n",
    "    def summation(self, x):\n",
    "        return np.dot(x, self.weight) + self.bias\n",
    "\n",
    "    def ReLU(self, x):\n",
    "        return np.maximum(0, x)\n",
    "    \n",
    "    def wandb_returner(self):\n",
    "        return {\"weights\": self.weight, \"bias\": self.bias}\n",
    "    \n",
    "    def wandb_changer(self, wandb_dict):\n",
    "        self.weight = wandb_dict[\"weights\"]\n",
    "        self.bias = wandb_dict[\"bias\"]\n",
    "    \n",
    "    def __call__(self, x):\n",
    "        x = self.summation(x)\n",
    "        return self.ReLU(x)"
   ]
  },
  {
   "cell_type": "code",
   "execution_count": 214,
   "metadata": {},
   "outputs": [],
   "source": [
    "model = Perceptron(8, 1)"
   ]
  },
  {
   "cell_type": "code",
   "execution_count": 215,
   "metadata": {},
   "outputs": [
    {
     "data": {
      "text/plain": [
       "{'weights': array([[0.08420782],\n",
       "        [0.03954285],\n",
       "        [0.05048902],\n",
       "        [0.0023679 ],\n",
       "        [0.09238652],\n",
       "        [0.09432933],\n",
       "        [0.0263183 ],\n",
       "        [0.04537423]]),\n",
       " 'bias': array([0.33104893])}"
      ]
     },
     "execution_count": 215,
     "metadata": {},
     "output_type": "execute_result"
    }
   ],
   "source": [
    "model.wandb_returner()"
   ]
  },
  {
   "cell_type": "code",
   "execution_count": 216,
   "metadata": {},
   "outputs": [],
   "source": [
    "def MSELoss(y_train, y_preds):\n",
    "    return (1 / y_train.shape[0]) * (np.sum((y_train - y_preds) ** 2))"
   ]
  },
  {
   "cell_type": "code",
   "execution_count": 217,
   "metadata": {},
   "outputs": [],
   "source": [
    "def calc_backprop(y_train, y_preds, x_features):\n",
    "\n",
    "    m = y_train.shape[0]\n",
    "\n",
    "    weight_derivatives = (1/m * np.dot((y_preds - y_train).T, x_features)).T\n",
    "    bias_derivatives = 1/m * np.sum(np.subtract(y_preds, y_train))\n",
    "    return weight_derivatives, bias_derivatives"
   ]
  },
  {
   "cell_type": "code",
   "execution_count": 218,
   "metadata": {},
   "outputs": [],
   "source": [
    "def param_init(parameters, weight_derivarives, bias_derivatives, learning_rate):\n",
    "    w = parameters[\"weights\"]\n",
    "    b = parameters[\"bias\"]\n",
    "\n",
    "    w = w - (learning_rate * weight_derivarives)\n",
    "    b = b - (learning_rate * bias_derivatives)\n",
    "\n",
    "    return {\"weights\": w, \"bias\": b}"
   ]
  },
  {
   "cell_type": "code",
   "execution_count": 219,
   "metadata": {},
   "outputs": [],
   "source": [
    "def train():\n",
    "    global training_loss\n",
    "    training_loss = []\n",
    "    for epoch in range(2000):\n",
    "        for batch_idx, (x, y) in enumerate(train_dataloader):\n",
    "            y_preds = model(x)\n",
    "\n",
    "            derivatives = calc_backprop(y, y_preds, x)\n",
    "            wandb_dict = param_init(model.wandb_returner(), derivatives[0], derivatives[1], 0.001)\n",
    "            model.wandb_changer(wandb_dict)\n",
    "            del derivatives, wandb_dict\n",
    "    \n",
    "        if epoch % 400 == 0:\n",
    "            print(f\"Training Loss: {MSELoss(y, y_preds)}\")\n",
    "            training_loss.append(MSELoss(y, y_preds))"
   ]
  },
  {
   "cell_type": "code",
   "execution_count": 220,
   "metadata": {},
   "outputs": [
    {
     "name": "stdout",
     "output_type": "stream",
     "text": [
      "Training Loss: 4.061790515543665\n",
      "Training Loss: 0.5200197165163563\n",
      "Training Loss: 0.5207200220729358\n",
      "Training Loss: 0.520718085831264\n",
      "Training Loss: 0.5207154622069708\n"
     ]
    }
   ],
   "source": [
    "train()"
   ]
  },
  {
   "cell_type": "code",
   "execution_count": 224,
   "metadata": {},
   "outputs": [
    {
     "data": {
      "text/plain": [
       "Text(0, 0.5, 'Error Rate')"
      ]
     },
     "execution_count": 224,
     "metadata": {},
     "output_type": "execute_result"
    },
    {
     "data": {
      "image/png": "[encoded data removed]",
      "text/plain": [
       "<Figure size 640x480 with 1 Axes>"
      ]
     },
     "metadata": {},
     "output_type": "display_data"
    }
   ],
   "source": [
    "plt.plot([i for i in range(len(training_loss))], training_loss)\n",
    "plt.xlabel(\"Training Count (Times)\")\n",
    "plt.ylabel(\"Error Rate\")"
   ]
  },
  {
   "cell_type": "code",
   "execution_count": 227,
   "metadata": {},
   "outputs": [
    {
     "name": "stdout",
     "output_type": "stream",
     "text": [
      "[[2.269999]\n",
      " [2.09475 ]\n",
      " [1.952959]\n",
      " [0.849234]\n",
      " [0.78935 ]\n",
      " [0.90385 ]]\n"
     ]
    },
    {
     "data": {
      "text/plain": [
       "(array([[2.36291614],\n",
       "        [2.52570299],\n",
       "        [2.46203566],\n",
       "        ...,\n",
       "        [0.20884841],\n",
       "        [0.37071648],\n",
       "        [0.55705702]]),\n",
       " None)"
      ]
     },
     "execution_count": 227,
     "metadata": {},
     "output_type": "execute_result"
    }
   ],
   "source": [
    "model(x_train), print(np.array([\n",
    "    [2.269999],\n",
    "    [2.094750],\n",
    "    [1.952959],\n",
    "    [0.849234],\n",
    "    [0.78935],\n",
    "    [0.90385]\n",
    "]))"
   ]
  },
  {
   "cell_type": "code",
   "execution_count": null,
   "metadata": {},
   "outputs": [],
   "source": []
  }
 ],
 "metadata": {
  "kernelspec": {
   "display_name": "Python 3",
   "language": "python",
   "name": "python3"
  },
  "language_info": {
   "codemirror_mode": {
    "name": "ipython",
    "version": 3
   },
   "file_extension": ".py",
   "mimetype": "text/x-python",
   "name": "python",
   "nbconvert_exporter": "python",
   "pygments_lexer": "ipython3",
   "version": "3.12.1"
  },
  "orig_nbformat": 4
 },
 "nbformat": 4,
 "nbformat_minor": 2
}
